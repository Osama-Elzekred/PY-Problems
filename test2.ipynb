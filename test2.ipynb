{
 "cells": [
  {
   "cell_type": "code",
   "execution_count": 10,
   "metadata": {},
   "outputs": [
    {
     "name": "stdout",
     "output_type": "stream",
     "text": [
      "True\n",
      "<class 'tuple'>\n"
     ]
    }
   ],
   "source": [
    "print(float(\"inf\")>float(\"-inf\"))\n",
    "print(type(()))"
   ]
  },
  {
   "cell_type": "code",
   "execution_count": 23,
   "metadata": {},
   "outputs": [
    {
     "name": "stdout",
     "output_type": "stream",
     "text": [
      "[1, 3, 6, 10, 15, 21, 28, 36]\n"
     ]
    }
   ],
   "source": [
    "l=[1,2,3,4,5,6,7,8]\n",
    "acc=[0]\n",
    "def sumer(x):\n",
    "  acc[0]+=x\n",
    "  return acc[0]\n",
    "\n",
    "print(list(map(sumer, l)))\n"
   ]
  },
  {
   "cell_type": "code",
   "execution_count": null,
   "metadata": {},
   "outputs": [],
   "source": [
    "from functools import reduce\n",
    "l = [1, 2, 3, 4, 5, 6, 7, 8]\n",
    "def sumer(acc,x):\n",
    "  acc.append(sum(acc)+x)\n",
    "  return acc\n",
    "print(reduce(sumer,l),[])"
   ]
  }
 ],
 "metadata": {
  "kernelspec": {
   "display_name": "Python 3.9.6 64-bit",
   "language": "python",
   "name": "python3"
  },
  "language_info": {
   "codemirror_mode": {
    "name": "ipython",
    "version": 3
   },
   "file_extension": ".py",
   "mimetype": "text/x-python",
   "name": "python",
   "nbconvert_exporter": "python",
   "pygments_lexer": "ipython3",
   "version": "3.9.6"
  },
  "orig_nbformat": 4,
  "vscode": {
   "interpreter": {
    "hash": "ff0523439ac640a4c7d914bcddddf78330b40225e1c65c8b5018622cfaab16e1"
   }
  }
 },
 "nbformat": 4,
 "nbformat_minor": 2
}
